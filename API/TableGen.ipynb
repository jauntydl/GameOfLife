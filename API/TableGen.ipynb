{
 "cells": [
  {
   "cell_type": "code",
   "execution_count": 7,
   "metadata": {},
   "outputs": [],
   "source": [
    "\n",
    "from db_connection import read_sql, to_sql\n",
    "\n",
    "query = \"\"\"\n",
    "  --sql\n",
    "  select\n",
    "    brand,\n",
    "    base_model,\n",
    "    drivetrain,\n",
    "    cooled_seats,\n",
    "    heated_steering_wheel,\n",
    "    COUNT(*) AS CNT\n",
    "  from main.MASTER_CARS\n",
    "  GROUP BY\n",
    "    brand,\n",
    "    base_model,\n",
    "    drivetrain,\n",
    "    cooled_seats,\n",
    "    heated_steering_wheel\n",
    "  HAVING CNT > 100\n",
    "; \n",
    "\"\"\"\n",
    "\n",
    "df = read_sql(query)\n",
    "\n",
    "to_sql(df, table_name='main.CARS_FILTERED')\n"
   ]
  }
 ],
 "metadata": {
  "kernelspec": {
   "display_name": "Python 3",
   "language": "python",
   "name": "python3"
  },
  "language_info": {
   "codemirror_mode": {
    "name": "ipython",
    "version": 3
   },
   "file_extension": ".py",
   "mimetype": "text/x-python",
   "name": "python",
   "nbconvert_exporter": "python",
   "pygments_lexer": "ipython3",
   "version": "3.12.3"
  }
 },
 "nbformat": 4,
 "nbformat_minor": 2
}
